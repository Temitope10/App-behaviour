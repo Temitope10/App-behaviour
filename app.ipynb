{
 "metadata": {
  "language_info": {
   "codemirror_mode": {
    "name": "ipython",
    "version": 3
   },
   "file_extension": ".py",
   "mimetype": "text/x-python",
   "name": "python",
   "nbconvert_exporter": "python",
   "pygments_lexer": "ipython3",
   "version": "3.7.6-final"
  },
  "orig_nbformat": 2,
  "kernelspec": {
   "name": "python_defaultSpec_1598821224271",
   "display_name": "Python 3.7.6 64-bit ('base': conda)"
  }
 },
 "nbformat": 4,
 "nbformat_minor": 2,
 "cells": [
  {
   "cell_type": "markdown",
   "metadata": {},
   "source": [
    "# 1. Importing libries. "
   ]
  },
  {
   "cell_type": "code",
   "execution_count": 4,
   "metadata": {},
   "outputs": [],
   "source": [
    "import pandas as pd \n",
    "import numpy as np \n",
    "import seaborn as sns \n",
    "import matplotlib.pyplot as plt \n",
    "from dateutil import parser"
   ]
  },
  {
   "cell_type": "code",
   "execution_count": 5,
   "metadata": {},
   "outputs": [],
   "source": [
    "df = pd.read_csv('appdata10.csv')"
   ]
  },
  {
   "cell_type": "code",
   "execution_count": 9,
   "metadata": {},
   "outputs": [
    {
     "output_type": "execute_result",
     "data": {
      "text/plain": "     user               first_open  dayofweek       hour  age  \\\n0  235136  2012-12-27 02:14:51.273          3   02:00:00   23   \n1  333588  2012-12-02 01:16:00.905          6   01:00:00   24   \n2  254414  2013-03-19 19:19:09.157          1   19:00:00   23   \n3  234192  2013-07-05 16:08:46.354          4   16:00:00   28   \n4   51549  2013-02-26 18:50:48.661          1   18:00:00   31   \n\n                                         screen_list  numscreens  minigame  \\\n0  idscreen,joinscreen,Cycle,product_review,ScanP...          15         0   \n1  joinscreen,product_review,product_review2,Scan...          13         0   \n2                                  Splash,Cycle,Loan           3         0   \n3  product_review,Home,product_review,Loan3,Finan...          40         0   \n4  idscreen,joinscreen,Cycle,Credit3Container,Sca...          32         0   \n\n   used_premium_feature  enrolled            enrolled_date  liked  \n0                     0         0                      NaN      0  \n1                     0         0                      NaN      0  \n2                     1         0                      NaN      1  \n3                     0         1  2013-07-05 16:11:49.513      0  \n4                     0         1  2013-02-26 18:56:37.841      1  ",
      "text/html": "<div>\n<style scoped>\n    .dataframe tbody tr th:only-of-type {\n        vertical-align: middle;\n    }\n\n    .dataframe tbody tr th {\n        vertical-align: top;\n    }\n\n    .dataframe thead th {\n        text-align: right;\n    }\n</style>\n<table border=\"1\" class=\"dataframe\">\n  <thead>\n    <tr style=\"text-align: right;\">\n      <th></th>\n      <th>user</th>\n      <th>first_open</th>\n      <th>dayofweek</th>\n      <th>hour</th>\n      <th>age</th>\n      <th>screen_list</th>\n      <th>numscreens</th>\n      <th>minigame</th>\n      <th>used_premium_feature</th>\n      <th>enrolled</th>\n      <th>enrolled_date</th>\n      <th>liked</th>\n    </tr>\n  </thead>\n  <tbody>\n    <tr>\n      <th>0</th>\n      <td>235136</td>\n      <td>2012-12-27 02:14:51.273</td>\n      <td>3</td>\n      <td>02:00:00</td>\n      <td>23</td>\n      <td>idscreen,joinscreen,Cycle,product_review,ScanP...</td>\n      <td>15</td>\n      <td>0</td>\n      <td>0</td>\n      <td>0</td>\n      <td>NaN</td>\n      <td>0</td>\n    </tr>\n    <tr>\n      <th>1</th>\n      <td>333588</td>\n      <td>2012-12-02 01:16:00.905</td>\n      <td>6</td>\n      <td>01:00:00</td>\n      <td>24</td>\n      <td>joinscreen,product_review,product_review2,Scan...</td>\n      <td>13</td>\n      <td>0</td>\n      <td>0</td>\n      <td>0</td>\n      <td>NaN</td>\n      <td>0</td>\n    </tr>\n    <tr>\n      <th>2</th>\n      <td>254414</td>\n      <td>2013-03-19 19:19:09.157</td>\n      <td>1</td>\n      <td>19:00:00</td>\n      <td>23</td>\n      <td>Splash,Cycle,Loan</td>\n      <td>3</td>\n      <td>0</td>\n      <td>1</td>\n      <td>0</td>\n      <td>NaN</td>\n      <td>1</td>\n    </tr>\n    <tr>\n      <th>3</th>\n      <td>234192</td>\n      <td>2013-07-05 16:08:46.354</td>\n      <td>4</td>\n      <td>16:00:00</td>\n      <td>28</td>\n      <td>product_review,Home,product_review,Loan3,Finan...</td>\n      <td>40</td>\n      <td>0</td>\n      <td>0</td>\n      <td>1</td>\n      <td>2013-07-05 16:11:49.513</td>\n      <td>0</td>\n    </tr>\n    <tr>\n      <th>4</th>\n      <td>51549</td>\n      <td>2013-02-26 18:50:48.661</td>\n      <td>1</td>\n      <td>18:00:00</td>\n      <td>31</td>\n      <td>idscreen,joinscreen,Cycle,Credit3Container,Sca...</td>\n      <td>32</td>\n      <td>0</td>\n      <td>0</td>\n      <td>1</td>\n      <td>2013-02-26 18:56:37.841</td>\n      <td>1</td>\n    </tr>\n  </tbody>\n</table>\n</div>"
     },
     "metadata": {},
     "execution_count": 9
    }
   ],
   "source": [
    "df.head()"
   ]
  },
  {
   "cell_type": "code",
   "execution_count": 7,
   "metadata": {},
   "outputs": [
    {
     "output_type": "execute_result",
     "data": {
      "text/plain": "(50000, 12)"
     },
     "metadata": {},
     "execution_count": 7
    }
   ],
   "source": [
    "df.shape"
   ]
  },
  {
   "cell_type": "code",
   "execution_count": 8,
   "metadata": {},
   "outputs": [
    {
     "output_type": "execute_result",
     "data": {
      "text/plain": "user                        0\nfirst_open                  0\ndayofweek                   0\nhour                        0\nage                         0\nscreen_list                 0\nnumscreens                  0\nminigame                    0\nused_premium_feature        0\nenrolled                    0\nenrolled_date           18926\nliked                       0\ndtype: int64"
     },
     "metadata": {},
     "execution_count": 8
    }
   ],
   "source": [
    "df.isnull().sum()"
   ]
  },
  {
   "cell_type": "code",
   "execution_count": 11,
   "metadata": {},
   "outputs": [
    {
     "output_type": "execute_result",
     "data": {
      "text/plain": "                user     dayofweek          age    numscreens      minigame  \\\ncount   50000.000000  50000.000000  50000.00000  50000.000000  50000.000000   \nmean   186889.729900      3.029860     31.72436     21.095900      0.107820   \nstd    107768.520361      2.031997     10.80331     15.728812      0.310156   \nmin        13.000000      0.000000     16.00000      1.000000      0.000000   \n25%     93526.750000      1.000000     24.00000     10.000000      0.000000   \n50%    187193.500000      3.000000     29.00000     18.000000      0.000000   \n75%    279984.250000      5.000000     37.00000     28.000000      0.000000   \nmax    373662.000000      6.000000    101.00000    325.000000      1.000000   \n\n       used_premium_feature      enrolled         liked  \ncount          50000.000000  50000.000000  50000.000000  \nmean               0.172020      0.621480      0.165000  \nstd                0.377402      0.485023      0.371184  \nmin                0.000000      0.000000      0.000000  \n25%                0.000000      0.000000      0.000000  \n50%                0.000000      1.000000      0.000000  \n75%                0.000000      1.000000      0.000000  \nmax                1.000000      1.000000      1.000000  ",
      "text/html": "<div>\n<style scoped>\n    .dataframe tbody tr th:only-of-type {\n        vertical-align: middle;\n    }\n\n    .dataframe tbody tr th {\n        vertical-align: top;\n    }\n\n    .dataframe thead th {\n        text-align: right;\n    }\n</style>\n<table border=\"1\" class=\"dataframe\">\n  <thead>\n    <tr style=\"text-align: right;\">\n      <th></th>\n      <th>user</th>\n      <th>dayofweek</th>\n      <th>age</th>\n      <th>numscreens</th>\n      <th>minigame</th>\n      <th>used_premium_feature</th>\n      <th>enrolled</th>\n      <th>liked</th>\n    </tr>\n  </thead>\n  <tbody>\n    <tr>\n      <th>count</th>\n      <td>50000.000000</td>\n      <td>50000.000000</td>\n      <td>50000.00000</td>\n      <td>50000.000000</td>\n      <td>50000.000000</td>\n      <td>50000.000000</td>\n      <td>50000.000000</td>\n      <td>50000.000000</td>\n    </tr>\n    <tr>\n      <th>mean</th>\n      <td>186889.729900</td>\n      <td>3.029860</td>\n      <td>31.72436</td>\n      <td>21.095900</td>\n      <td>0.107820</td>\n      <td>0.172020</td>\n      <td>0.621480</td>\n      <td>0.165000</td>\n    </tr>\n    <tr>\n      <th>std</th>\n      <td>107768.520361</td>\n      <td>2.031997</td>\n      <td>10.80331</td>\n      <td>15.728812</td>\n      <td>0.310156</td>\n      <td>0.377402</td>\n      <td>0.485023</td>\n      <td>0.371184</td>\n    </tr>\n    <tr>\n      <th>min</th>\n      <td>13.000000</td>\n      <td>0.000000</td>\n      <td>16.00000</td>\n      <td>1.000000</td>\n      <td>0.000000</td>\n      <td>0.000000</td>\n      <td>0.000000</td>\n      <td>0.000000</td>\n    </tr>\n    <tr>\n      <th>25%</th>\n      <td>93526.750000</td>\n      <td>1.000000</td>\n      <td>24.00000</td>\n      <td>10.000000</td>\n      <td>0.000000</td>\n      <td>0.000000</td>\n      <td>0.000000</td>\n      <td>0.000000</td>\n    </tr>\n    <tr>\n      <th>50%</th>\n      <td>187193.500000</td>\n      <td>3.000000</td>\n      <td>29.00000</td>\n      <td>18.000000</td>\n      <td>0.000000</td>\n      <td>0.000000</td>\n      <td>1.000000</td>\n      <td>0.000000</td>\n    </tr>\n    <tr>\n      <th>75%</th>\n      <td>279984.250000</td>\n      <td>5.000000</td>\n      <td>37.00000</td>\n      <td>28.000000</td>\n      <td>0.000000</td>\n      <td>0.000000</td>\n      <td>1.000000</td>\n      <td>0.000000</td>\n    </tr>\n    <tr>\n      <th>max</th>\n      <td>373662.000000</td>\n      <td>6.000000</td>\n      <td>101.00000</td>\n      <td>325.000000</td>\n      <td>1.000000</td>\n      <td>1.000000</td>\n      <td>1.000000</td>\n      <td>1.000000</td>\n    </tr>\n  </tbody>\n</table>\n</div>"
     },
     "metadata": {},
     "execution_count": 11
    }
   ],
   "source": [
    "df.describe()"
   ]
  },
  {
   "cell_type": "markdown",
   "metadata": {},
   "source": [
    "# 2. Data cleaning "
   ]
  },
  {
   "cell_type": "code",
   "execution_count": 14,
   "metadata": {},
   "outputs": [
    {
     "output_type": "execute_result",
     "data": {
      "text/plain": "0         02:00:00\n1         01:00:00\n2         19:00:00\n3         16:00:00\n4         18:00:00\n           ...    \n49995     13:00:00\n49996     00:00:00\n49997     22:00:00\n49998     12:00:00\n49999     01:00:00\nName: hour, Length: 50000, dtype: object"
     },
     "metadata": {},
     "execution_count": 14
    }
   ],
   "source": [
    "df.hour"
   ]
  },
  {
   "cell_type": "code",
   "execution_count": 16,
   "metadata": {},
   "outputs": [
    {
     "output_type": "execute_result",
     "data": {
      "text/plain": "0         2\n1         1\n2        19\n3        16\n4        18\n         ..\n49995    13\n49996     0\n49997    22\n49998    12\n49999     1\nName: hour, Length: 50000, dtype: int64"
     },
     "metadata": {},
     "execution_count": 16
    }
   ],
   "source": [
    "# Converting the hour columsfrom object to str, it will also enable it to appear in the describe function \n",
    "df.hour.str.slice(1,3).astype(int)"
   ]
  },
  {
   "cell_type": "code",
   "execution_count": null,
   "metadata": {},
   "outputs": [],
   "source": []
  }
 ]
}